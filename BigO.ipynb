{
 "cells": [
  {
   "cell_type": "markdown",
   "metadata": {},
   "source": [
    "## Flat is better than nested— The Zen of Python"
   ]
  },
  {
   "cell_type": "markdown",
   "metadata": {},
   "source": [
    "## Big O Notation\n",
    " * a fuzzy way for counting   \n",
    " * a big picture of the time efficiency of the code"
   ]
  },
  {
   "cell_type": "markdown",
   "metadata": {},
   "source": [
    "## How do you evaluate the codes?\n",
    " * Faster? Time complexity \n",
    " * Less memory intensive?\n",
    " * More readable ?\n",
    " "
   ]
  },
  {
   "cell_type": "markdown",
   "metadata": {},
   "source": [
    "## How to measure the codes using Big O?\n",
    "\n",
    " * Assignment statements and if statements that are only executed once regardless of the size of the problem are O(1).\n",
    "\n",
    " * A simple “for” loop from 0 to n (with no internal loops), contributes O(n) (linear complexity);\n",
    "a nested loop of the same type (or bounded by the first loop parameter), gives O(n^2) (quadratic complexity);\n",
    " * A loop in which the controlling parameter is divided by two at each step (and which terminates when it reaches 1), gives O(log n) (logarithmic complexity);\n",
    " * A “while” loop may vary depends on the actual numbers of iterations it will run ( OK. It means as same as the for loop -_-. That is to say, for all kinds of loops, we only care about the actual number of iterations that they’ve executed before they hit the upper bond).\n",
    " * A loop with a not-O(1) execution inside, simply multiplies the complexity of the body of the loop, by the number of times the loop will execute.\n",
    " * When dealing with multiple statements, add them up.\n",
    "\n",
    "[Everything about big-o](http://www.albertgao.xyz/2016/08/09/everything-you-need-to-know-about-big-o-notation/)\n"
   ]
  },
  {
   "cell_type": "markdown",
   "metadata": {},
   "source": [
    "### Rules: \n",
    " * Constants doesn't matter \n",
    "  * O(2N) = O(N)\n",
    "  * O(5) = O(500 =O (1)\n",
    "  * O (17N*N) = O (N*N)\n",
    " * Smaller terms doesn't matter \n",
    "  * O($N^2$ +50N +10) == O($N^2$)\n",
    "\n",
    " * O(1) < O(log n) < O( Sqrt(n) ) < O(n) < O(n log n) < O(n^2) < O(n^3) < O(2^n) "
   ]
  },
  {
   "cell_type": "markdown",
   "metadata": {},
   "source": [
    "## What are the big-O notations from these ML techniques?"
   ]
  },
  {
   "cell_type": "markdown",
   "metadata": {},
   "source": [
    "\n",
    " * Linear:  O(N)\n",
    " * Sorting: O(nlogN)"
   ]
  },
  {
   "cell_type": "markdown",
   "metadata": {},
   "source": [
    "## References\n",
    "\n",
    " * [SVM Analysis](https://pdfs.semanticscholar.org/a8b4/786c9128d4a94caeb67c858ab4f4288c49ff.pdf)\n",
    " * [RF Analysis](https://arxiv.org/pdf/1407.7502)\n",
    " * [Complete Beginner's Guide to Big ONotation](https://www.youtube.com/watch?v=kS_gr2_-ws8)\n",
    " * [Big O Notation](https://www.youtube.com/watch?v=v4cd1O4zkGw)\n",
    " * [You (Probably) Don’t Need For-Loops](https://medium.com/python-pandemonium/never-write-for-loops-again-91a5a4c84baf)\n",
    " * [Neural networks and Big(O)](https://stackoverflow.com/questions/53843459/neural-networks-and-big-o)\n",
    " * [Back Prop](https://ai.stackexchange.com/questions/5728/what-is-the-time-complexity-for-training-a-neural-network-using-back-propagation)"
   ]
  },
  {
   "cell_type": "code",
   "execution_count": null,
   "metadata": {},
   "outputs": [],
   "source": []
  }
 ],
 "metadata": {
  "kernelspec": {
   "display_name": "Python 3",
   "language": "python",
   "name": "python3"
  },
  "language_info": {
   "codemirror_mode": {
    "name": "ipython",
    "version": 3
   },
   "file_extension": ".py",
   "mimetype": "text/x-python",
   "name": "python",
   "nbconvert_exporter": "python",
   "pygments_lexer": "ipython3",
   "version": "3.7.3"
  }
 },
 "nbformat": 4,
 "nbformat_minor": 2
}
